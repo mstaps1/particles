{
 "cells": [
  {
   "cell_type": "markdown",
   "id": "e669e444",
   "metadata": {},
   "source": [
    "# Defining \"complicated\" state-space models\n",
    "Some users reported difficulties with definining \"complicated\" state-space models, that is models where the variables $X_t$ and $Y_t$ may:\n",
    "\n",
    "* be multivariate;\n",
    "\n",
    "* have non-standard distributions; \n",
    "\n",
    "* have \"named\" components (such as \"S\" /\"I\" / \"R\" for the number of susceptible / infected / recovered cased in a SIR model), and the user would like the specify the model accordingly. \n",
    "\n",
    "* be missing at certain times. \n",
    "\n",
    "This tutorial explains how to deal with such issues.\n",
    "\n",
    "## Before we start\n",
    "\n",
    "Note that if you are only interested in implementing the bootstrap filter associated to your model, and if the following tasks are easy to implement:\n",
    "\n",
    "* writing a simulator that samples ($N$ times) from the distribution of $X_t$ given $X_{t-1}$;\n",
    "\n",
    "* writing a function that computes the log of density $f(y_t|x_t)$ of data-point $y_t$ given $X_t=x_t$, for an array of $N$ particles $X_t^n$;\n",
    "\n",
    "then one option is to implement manually the corresponding Feynman-Kac object that describes that bootstrap filter. See the previous [tutorial](Defining_Feynman-Kac_models_manually.html). \n",
    "\n",
    "## Multivariate state-space models (with conditional independent distributions)\n",
    "\n",
    "The bearings-only model is a famous (toy) tracking model. The tracked object (e.g. a ship) moves according to a 2D motion model, where the speed evolves according to a random walk. State $(X_t)$ is 4-dimensional, the first two components give the position, the next two give the velocity, and one has:\n",
    "$$ X_t = \\begin{pmatrix} I_2 & I_2 \\\\ 0_2 & I_2 \\end{pmatrix} X_{t-1} + \n",
    "\\begin{pmatrix} 0_2 & 0_2 \\\\ 0_2 & U_t \\end{pmatrix},\\qquad U_t \\sim N_2\\left(0_2, \\sigma_X^2 I_2\\right).$$\n",
    "\n",
    "Note in particular that the first two components (the position in Cartesian coordinates) are **deterministic** functions of $X_{t-1}$. \n",
    "\n",
    "Furthermore, ones observes some radar measurement, that gives the **direction** (angle) of that object, up to some noise:\n",
    "$$ Y_t = \\mathrm{atan}\\left( \\frac{X_t[1]}{X_t[2]} \\right) + V_t,\\qquad V_t \\sim N(0,\\sigma_Y^2).$$\n",
    "\n",
    "Here how you may define such a model; pay particular attention to method `PX`."
   ]
  },
  {
   "cell_type": "code",
   "execution_count": 8,
   "id": "02d0aa0e",
   "metadata": {},
   "outputs": [
    {
     "data": {
      "text/plain": [
       "[<matplotlib.lines.Line2D at 0x7f63da280880>]"
      ]
     },
     "execution_count": 8,
     "metadata": {},
     "output_type": "execute_result"
    },
    {
     "data": {
      "image/png": "[encoded data removed]",
      "text/plain": [
       "<Figure size 432x288 with 1 Axes>"
      ]
     },
     "metadata": {},
     "output_type": "display_data"
    }
   ],
   "source": [
    "from matplotlib import pyplot as plt\n",
    "\n",
    "import particles\n",
    "from particles import distributions as dists\n",
    "from particles import state_space_models as ssms\n",
    "\n",
    "class BearingsOnly(ssms.StateSpaceModel):\n",
    "    \"\"\" Bearings-only tracking SSM.\n",
    "\n",
    "    \"\"\"\n",
    "    default_params = {'sigmaX': 2.e-4, \n",
    "                      'sigmaY': 1e-3,\n",
    "                      'x0': np.array([3e-3, -3e-3, 1., 1.])\n",
    "                     }\n",
    "\n",
    "    def PX0(self):\n",
    "        return dists.IndepProd(dists.Dirac(loc=self.x0[0]),\n",
    "                               dists.Dirac(loc=self.x0[1]),\n",
    "                               dists.Normal(loc=self.x0[2], scale=self.sigmaX),\n",
    "                               dists.Normal(loc=self.x0[3], scale=self.sigmaX),\n",
    "                               )\n",
    "\n",
    "    def PX(self, t, xp):\n",
    "        return dists.IndepProd(dists.Dirac(loc=xp[:, 0] + xp[:, 2]),\n",
    "                               dists.Dirac(loc=xp[:, 1] + xp[:, 3]),\n",
    "                               dists.Normal(loc=xp[:, 2], scale=self.sigmaX),\n",
    "                               dists.Normal(loc=xp[:, 3], scale=self.sigmaX),\n",
    "                               )\n",
    "\n",
    "    def PY(self, t, xp, x):\n",
    "        angle = np.arctan(x[:, 0] / x[:, 1])\n",
    "        angle[x[:, 1] < 0.] += np.pi\n",
    "        return dists.Normal(loc=angle, scale=self.sigmaY)\n",
    "    \n",
    "bear = BearingsOnly(sigmaX=0.5)\n",
    "x, y = bear.simulate(30)\n",
    "xarr = np.array(x).squeeze()\n",
    "plt.plot(xarr[:, 0], xarr[:, 1])"
   ]
  },
  {
   "cell_type": "markdown",
   "id": "878cb009",
   "metadata": {},
   "source": [
    "The following points are noteworthy:\n",
    "\n",
    "* Since the components of $X_t$ are **independent** (conditional on $X_{t-1}$) we specify the distribution of $X_t$ as a **product** of independent distributions, through `dists.IndepProd`. This particular object takes as input an arbitrary number (2 or more) of univariate distributions, and combines then to define a joint distribution. \n",
    "\n",
    "* Since the state-space is $\\mathbb{R}^4$, the particles will be stored in a numpy array of shape (N, 4): e.g. first component will be in `x[:, 0]`. (Recall that python uses zero-based indexing.) \n",
    "\n",
    "* The probability distributions implemented in `particles` \"operate on arrays\": whenever a parameter of that distribution varies accross particles, one should specify that parameter as an array. For instance, when we want to specify that $X_t[3] | X_{t-1} \\sim N(X_{t-1}[3],\\sigma_X^2)$ we must define a Gaussian distribution, where the mean (parameter `loc`) is set to `xp[:, 2]`, the array that contains the $N$ possible values of component $X_{t-1}[3]$.\n"
   ]
  },
  {
   "cell_type": "markdown",
   "id": "c6fbb110",
   "metadata": {},
   "source": [
    "## Non-independent joint distribution, named components\n",
    "\n",
    "Of course, the big limitation of `dists.IndepProd` is that it does not let you specify joint distributions where components are *not* independent. For this, you may use \"structured distributions\" (`dists.StructDist`). A nice extra is that it makes it possible to name components. \n",
    "\n",
    "Structured distributions were designed initially to specify prior distributions for parameters, but nothing prevents you from using them in the definition of a state-space model. Recall that structured distributions are intimately linked to structured arrays; e.g. when you simulate from a structured distribution, you get a structured array with the same keys. Have a quick look [here](_autosummary/particles.distributions.StructDist.html#particles.distributions.StructDist) if you are not familiar already with structured arrays and structured distributions. \n",
    "\n",
    "Here is a silly example: Suppose that you have a state-space model where $X_t=(A_t, B_t)$, and \n",
    "\\begin{align*}\n",
    "A_t & \\sim N(A_{t-1}, 1) \\\\\n",
    "B_t & = B_{t-1} + A_t\n",
    "\\end{align*}\n",
    "\n",
    "In words, $B_t$ is the cumulative sum of process $A_t$. We may specify a state-space model with such a process as follows:"
   ]
  },
  {
   "cell_type": "code",
   "execution_count": 2,
   "id": "87fb5265",
   "metadata": {},
   "outputs": [
    {
     "data": {
      "text/plain": [
       "<matplotlib.legend.Legend at 0x7f63da991b20>"
      ]
     },
     "execution_count": 2,
     "metadata": {},
     "output_type": "execute_result"
    },
    {
     "data": {
      "image/png": "[encoded data removed]",
      "text/plain": [
       "<Figure size 432x288 with 1 Axes>"
      ]
     },
     "metadata": {},
     "output_type": "display_data"
    }
   ],
   "source": [
    "def abdist(xp):  # xp means X_{t-1}\n",
    "    d = {'a': dists.Normal(loc=xp['a']),\n",
    "         'b': dists.Cond(lambda x: dists.Dirac(xp['b'] + x['a']))}\n",
    "    return dists.StructDist(d)\n",
    "\n",
    "class SillyModel(ssms.StateSpaceModel):\n",
    "    def PX0(self):\n",
    "        return abdist({'a': 0., 'b': 0.})\n",
    "    def PX(self, t, xp):\n",
    "        return abdist(xp)\n",
    "    def PY(self, t, xp, x):\n",
    "        return dists.Normal(loc=x['a'], scale=0.3)  # whatever\n",
    "    \n",
    "silly = SillyModel()\n",
    "x, y = silly.simulate(30)\n",
    "\n",
    "plt.style.use('ggplot')\n",
    "plt.plot([xt['a'] for xt in x], label=r'$a_t$')\n",
    "plt.plot([xt['b'] for xt in x], label=r'$b_t$')\n",
    "plt.legend()"
   ]
  },
  {
   "cell_type": "markdown",
   "id": "7c7c333e",
   "metadata": {},
   "source": [
    "Let's unpack things:\n",
    "\n",
    "* `dists.StructDist` takes as input a dict-like object; keys are the names of the components, and values are their distributions.\n",
    "* Component `'a'` has a certain distribution (here, a Gaussian centred on $A_{t-1}$). \n",
    "\n",
    "* Component `'b'` is assigned a **conditional** distribution: the `dists.Cond` object takes as  input a **function**, which for a given input `x`, returns the conditional distribution for that value of `x`. Note the role played `x`: it is a structured array such that `x[f]` returns $N$ value for any component `f` (here `'a'`) whose distribution has already been defined. \n",
    "\n",
    "* More generally, you may implement any kind of chain rule decomposition with `StructDist`; e.g; you could introduce a component `c` whose distribution would depend on `a` and `b`, and so on. One important point: these components should defined in order; i.e. if the distribution of `'c'` depends on `'a'` and `'b'`, then `'a'` and `'b'` must be defined previously. \n",
    "\n",
    "* Technical point: since Python 3.6, dictionaries preserve order (they remember you defined them with keys ordered in a certain way). If you use an older version of Python, you might need to use ordered dictionary, as explained in the documentation of `StructDist`."
   ]
  },
  {
   "cell_type": "markdown",
   "id": "4e99325d",
   "metadata": {},
   "source": [
    "## Arbitrary distributions\n",
    "With `dists.IndepProd` and `dists.StrucDist` you can create many complicated multivariate distributions out of simple univariate distributions. Many standard univariate distributions are defined in module distributions. Note you can also define many more by using transformations, e.g:"
   ]
  },
  {
   "cell_type": "code",
   "execution_count": 3,
   "id": "07f6a51c",
   "metadata": {},
   "outputs": [
    {
     "data": {
      "image/png": "[encoded data removed]",
      "text/plain": [
       "<Figure size 432x288 with 1 Axes>"
      ]
     },
     "metadata": {},
     "output_type": "display_data"
    }
   ],
   "source": [
    "# law of Y=log(X), X~Gamma(2, 2)\n",
    "dist_log_gam = dists.LogD(dists.Gamma(a=2., b=2.))  \n",
    "x = dist_log_gam.rvs(size=1000)\n",
    "plt.hist(x, 40);"
   ]
  },
  {
   "cell_type": "markdown",
   "id": "54170a3d",
   "metadata": {},
   "source": [
    "Finally, it is always possible to create your **own** (univariate or multivariate) probability distributions, by sub-classing the base class ProbDist; see the documentation of the module for more information.  \n",
    "\n",
    "## Missing data\n",
    "\n",
    "We are going to consider two slightly different scenarios for missing data. \n",
    "\n",
    "### Missing at fixed times\n",
    "\n",
    "Suppose we know in advance that the observation $Y_t$ will be missing at certain times $t$; e.g. every Sunday for daily data. In that case, we may use the `dists.FlatNormal` distribution as follows. "
   ]
  },
  {
   "cell_type": "code",
   "execution_count": 4,
   "id": "64bc80e0",
   "metadata": {},
   "outputs": [],
   "source": [
    "class ToyModelWithMissingData(ssms.StateSpaceModel):\n",
    "    default_params = {'sigmaX': 1., 'sigmaY': 0.2}\n",
    "    def PX0(self):\n",
    "        return dists.Normal(scale=self.sigmaX)\n",
    "    def PX(self, t, xp):\n",
    "        return dists.Normal(loc=xp, scale=self.sigmaX)\n",
    "    def PY(self, t, xp, x):\n",
    "        if t % 7 == 0:  # Sunday\n",
    "            return dists.FlatNormal(loc=x)\n",
    "        else:  # Other days \n",
    "            return dists.Normal(loc=x, scale=self.sigmaY)"
   ]
  },
  {
   "cell_type": "markdown",
   "id": "ca144f92",
   "metadata": {},
   "source": [
    "`dists.FlatNormal` behaves like a Normal distribution with infinite variance: its log-density is flat (=zero). The model above is simply going to ignore the value of `data[t]` for any $t$ that is a multiple of seven.  \n",
    "\n",
    "### Missing at random times\n",
    "\n",
    "In case you don't want to specify in advance at which times the data may be missing, you may use instead `dists.MixMissing`. This distribution represents a mixture distribution, where:\n",
    "\n",
    "* with probability `pmiss`, the outcome is 'missing' (represented by value `NaN`).\n",
    "\n",
    "* with probability `1. - pmiss`, the outcome follows a certain base distribution. "
   ]
  },
  {
   "cell_type": "code",
   "execution_count": 5,
   "id": "cb6f310b",
   "metadata": {},
   "outputs": [],
   "source": [
    "class ToyModelWithMissingDataRandomTimes(ssms.StateSpaceModel):\n",
    "    default_params = {'sigmaX': 1., 'sigmaY': 0.2}\n",
    "    def PX0(self):\n",
    "        return dists.Normal(scale=self.sigmaX)\n",
    "    def PX(self, t, xp):\n",
    "        return dists.Normal(loc=xp, scale=self.sigmaX)\n",
    "    def PY(self, t, xp, x):\n",
    "        return dists.MixMissing(pmiss=0.20, \n",
    "                                base_dist=dists.Normal(loc=x, scale=self.sigmaY))"
   ]
  },
  {
   "cell_type": "markdown",
   "id": "efbf652b",
   "metadata": {},
   "source": [
    "Now, if you simulate from this model, you get a `Nan` with probability 20% at any given time step. "
   ]
  },
  {
   "cell_type": "code",
   "execution_count": 9,
   "id": "57c68ceb",
   "metadata": {},
   "outputs": [
    {
     "name": "stdout",
     "output_type": "stream",
     "text": [
      "[[ 1.15719099]\n",
      " [ 1.12199113]\n",
      " [ 2.47971689]\n",
      " [ 2.74431727]\n",
      " [ 0.84142741]\n",
      " [ 1.10468696]\n",
      " [        nan]\n",
      " [-0.70324617]\n",
      " [        nan]\n",
      " [ 0.19505344]]\n"
     ]
    }
   ],
   "source": [
    "toymod = ToyModelWithMissingDataRandomTimes() \n",
    "x, y = toymod.simulate(10)\n",
    "print(np.array(y))"
   ]
  },
  {
   "cell_type": "markdown",
   "id": "8cec92d4",
   "metadata": {},
   "source": [
    "Then, when a particle filter is run, each Nan in the data is treated as a missing observation, and is treated as such. "
   ]
  },
  {
   "cell_type": "code",
   "execution_count": 11,
   "id": "37238ef2",
   "metadata": {},
   "outputs": [
    {
     "name": "stdout",
     "output_type": "stream",
     "text": [
      "t=0: resample:False, ESS (end of iter)=13.63\n",
      "t=1: resample:True, ESS (end of iter)=26.37\n",
      "t=2: resample:True, ESS (end of iter)=14.31\n",
      "t=3: resample:True, ESS (end of iter)=19.71\n",
      "t=4: resample:True, ESS (end of iter)=5.47\n",
      "t=5: resample:True, ESS (end of iter)=22.68\n",
      "t=6: resample:True, ESS (end of iter)=100.00\n",
      "t=7: resample:False, ESS (end of iter)=8.63\n",
      "t=8: resample:True, ESS (end of iter)=100.00\n",
      "t=9: resample:False, ESS (end of iter)=21.27\n"
     ]
    }
   ],
   "source": [
    "fk = ssms.Bootstrap(ssm=toymod, data=y)\n",
    "alg = particles.SMC(fk=fk, N=100, verbose=True)\n",
    "alg.run()"
   ]
  },
  {
   "cell_type": "markdown",
   "id": "7a94b981",
   "metadata": {},
   "source": [
    "Note in particular how the ESS stays equals to 100 (the maximum value, since $N=100$) at times where a Nan was observed.\n",
    "\n",
    "**Technical point**: the normalising constant estimate takes into account the probability that you have a missing value; e.g. if your data  consist of 10 Nans, the estimate equals $p^{10}$, where $p$ is the missing probability. \n",
    "\n",
    "### Multivariate observations with missing data\n",
    "\n",
    "The examples above assume that the observations $Y_t$ are univariate, but you can combine `FlatNormal` or `MixMissing` with `dists.IndepProd` to specify a model where components of $Y_t$ may be missing. For instance: "
   ]
  },
  {
   "cell_type": "code",
   "execution_count": 16,
   "id": "a1d7c810",
   "metadata": {},
   "outputs": [],
   "source": [
    "class MultivariateModelWithMissingData(ssms.StateSpaceModel):\n",
    "    def PX0(self):\n",
    "        return dists.IndepProd(dists.Normal(),\n",
    "                               dists.Normal())\n",
    "    def PX(self, t, xp):\n",
    "        return dists.IndepProd(dists.Normal(loc=xp[:, 0]),\n",
    "                               dists.Normal(loc=xp[:, 1]))\n",
    "    def PY(self, t, xp, x):\n",
    "        return dists.IndepProd(dists.Normal(loc=x[:, 0]),\n",
    "                               dists.MixMissing(pmiss=0.20, \n",
    "                                base_dist=dists.Normal(loc=x[:,0])))"
   ]
  },
  {
   "cell_type": "markdown",
   "id": "685e3f2b",
   "metadata": {},
   "source": [
    "In this model, only the second component of $Y_t$ may be missing, with probability $20\\%$:"
   ]
  },
  {
   "cell_type": "code",
   "execution_count": 27,
   "id": "b090d9ce",
   "metadata": {},
   "outputs": [
    {
     "name": "stdout",
     "output_type": "stream",
     "text": [
      "[[-1.65844712         nan]\n",
      " [-0.47070688 -1.0353565 ]\n",
      " [ 1.99688692  1.46915379]\n",
      " [-0.54656891  0.68420457]\n",
      " [ 1.06249224  1.62856419]\n",
      " [ 0.93699561 -1.67133867]\n",
      " [-1.21527128 -0.65343266]\n",
      " [-4.56505231 -3.10377106]\n",
      " [-6.88535672         nan]\n",
      " [-7.42773445 -5.51978829]]\n"
     ]
    }
   ],
   "source": [
    "ssm = MultivariateModelWithMissingData()\n",
    "x, y = ssm.simulate(10)\n",
    "print(np.squeeze(y))"
   ]
  },
  {
   "cell_type": "markdown",
   "id": "1fd1f9e2",
   "metadata": {},
   "source": [
    "## Questions?\n",
    "\n",
    "This tutorial was written to answer some recurring questions from users; if you feel you are still unable to implement your model, feel free to get in touch with the author of the package. "
   ]
  }
 ],
 "metadata": {
  "kernelspec": {
   "display_name": "Python 3 (ipykernel)",
   "language": "python",
   "name": "python3"
  },
  "language_info": {
   "codemirror_mode": {
    "name": "ipython",
    "version": 3
   },
   "file_extension": ".py",
   "mimetype": "text/x-python",
   "name": "python",
   "nbconvert_exporter": "python",
   "pygments_lexer": "ipython3",
   "version": "3.9.13"
  }
 },
 "nbformat": 4,
 "nbformat_minor": 5
}
